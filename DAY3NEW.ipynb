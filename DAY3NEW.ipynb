{
 "cells": [
  {
   "cell_type": "code",
   "execution_count": 4,
   "id": "93972b16",
   "metadata": {},
   "outputs": [],
   "source": [
    "def addition(a,b):\n",
    "    c=a+b \n",
    "    return c"
   ]
  },
  {
   "cell_type": "code",
   "execution_count": 7,
   "id": "12500455",
   "metadata": {},
   "outputs": [
    {
     "name": "stdout",
     "output_type": "stream",
     "text": [
      "write num 1:8\n",
      "write num 2:9\n"
     ]
    },
    {
     "data": {
      "text/plain": [
       "17"
      ]
     },
     "execution_count": 7,
     "metadata": {},
     "output_type": "execute_result"
    }
   ],
   "source": [
    "a=int(input(\"write num 1:\"))\n",
    "b=int(input(\"write num 2:\"))\n",
    "addition(a,b)"
   ]
  },
  {
   "cell_type": "code",
   "execution_count": 9,
   "id": "1786fa8b",
   "metadata": {},
   "outputs": [],
   "source": [
    "def great(x,y,z):\n",
    "    if x>y and x>z:\n",
    "        return x\n",
    "    elif y>x and y>z:\n",
    "        return y\n",
    "    else:\n",
    "        return z\n"
   ]
  },
  {
   "cell_type": "code",
   "execution_count": 11,
   "id": "30e59e31",
   "metadata": {},
   "outputs": [
    {
     "data": {
      "text/plain": [
       "6"
      ]
     },
     "execution_count": 11,
     "metadata": {},
     "output_type": "execute_result"
    }
   ],
   "source": [
    "great(3,5,6)"
   ]
  },
  {
   "cell_type": "code",
   "execution_count": 14,
   "id": "886cdd2a",
   "metadata": {},
   "outputs": [
    {
     "name": "stdout",
     "output_type": "stream",
     "text": [
      "67\n"
     ]
    }
   ],
   "source": [
    "scores=[34,45,67,88,21]\n",
    "scset=set(scores)\n",
    "top=max(scset)\n",
    "scset.remove(top)\n",
    "print(max(scset))\n"
   ]
  },
  {
   "cell_type": "code",
   "execution_count": 16,
   "id": "95069c36",
   "metadata": {},
   "outputs": [
    {
     "name": "stdout",
     "output_type": "stream",
     "text": [
      "{6, 7}\n"
     ]
    }
   ],
   "source": [
    "s1={2,2,3,4,6,7}\n",
    "s2={5,6,7,8,10,11}\n",
    "if s1.intersection(s2):\n",
    "    print(s1&s2)\n",
    "else:\n",
    "    print(s1.union(s2))"
   ]
  },
  {
   "cell_type": "code",
   "execution_count": 19,
   "id": "2b74a532",
   "metadata": {},
   "outputs": [
    {
     "name": "stdout",
     "output_type": "stream",
     "text": [
      "Enter the name to be updated\n",
      "name not found\n"
     ]
    }
   ],
   "source": [
    "d={\"john\":[25,32,43],\"peter\":[87,55,96],\"ram\":[58,55,43],\"meena\":[63,79,85]}\n",
    "n=input(\"Enter the name to be updated\")\n",
    "if n in d:\n",
    "    d[n]=[88,77,99]\n",
    "    print(d)\n",
    "else:\n",
    "    print(\"name not found\")"
   ]
  },
  {
   "cell_type": "code",
   "execution_count": 24,
   "id": "79228118",
   "metadata": {},
   "outputs": [
    {
     "name": "stdout",
     "output_type": "stream",
     "text": [
      "elder= 48\n",
      "younger= 23\n"
     ]
    }
   ],
   "source": [
    "age=[23,36,48]\n",
    "print(\"elder=\",max(age))\n",
    "print(\"younger=\",min(age))"
   ]
  },
  {
   "cell_type": "code",
   "execution_count": 2,
   "id": "1451c776",
   "metadata": {},
   "outputs": [
    {
     "data": {
      "text/plain": [
       "'NRAA'"
      ]
     },
     "execution_count": 2,
     "metadata": {},
     "output_type": "execute_result"
    }
   ],
   "source": [
    "s=\"NIRMALA\"\n",
    "s[::2]"
   ]
  }
 ],
 "metadata": {
  "kernelspec": {
   "display_name": "Python 3 (ipykernel)",
   "language": "python",
   "name": "python3"
  },
  "language_info": {
   "codemirror_mode": {
    "name": "ipython",
    "version": 3
   },
   "file_extension": ".py",
   "mimetype": "text/x-python",
   "name": "python",
   "nbconvert_exporter": "python",
   "pygments_lexer": "ipython3",
   "version": "3.11.5"
  }
 },
 "nbformat": 4,
 "nbformat_minor": 5
}
